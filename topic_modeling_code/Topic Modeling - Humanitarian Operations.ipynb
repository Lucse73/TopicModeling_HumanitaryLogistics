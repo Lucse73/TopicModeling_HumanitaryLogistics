{
 "cells": [
  {
   "cell_type": "markdown",
   "metadata": {},
   "source": [
    "<h2><center> Topic Modeling on Humanitarian Operations"
   ]
  },
  {
   "cell_type": "markdown",
   "metadata": {},
   "source": [
    "This notebook shows how to perform topic modeling on a collection of research papers related to humanitarian operations. The objective is to uncover latent topics present in the documents, which can help to better understand trends, themes, and areas of focus within humanitarian research.\n",
    "\n",
    "We will use Latent Dirichlet Allocation (LDA) for topic modeling, a popular technique for discovering abstract topics from a collection of documents. The following steps will guide us through loading the dataset, preprocessing the text, generating topics using LDA, and visualizing the results.\n",
    "\n",
    "Key Steps:\n",
    "\n",
    "1. Data collection (Through Web of Science and Scopus)\n",
    "2. Data loading and text preprocessing.\n",
    "3. Topic Modeling using LDA and Perplexity Evaluation.\n",
    "4. Visualization of the topics."
   ]
  },
  {
   "cell_type": "markdown",
   "metadata": {},
   "source": [
    "---"
   ]
  },
  {
   "cell_type": "markdown",
   "metadata": {},
   "source": [
    "Make sure to install the following libraries if it's the first time you are using them, with the commands \"pip install\". E.g.<code>pip intall pandas</code>\n",
    "\n",
    "* <code>pandas</code>: For data manipulation and handling the dataset of papers.\n",
    "* <code>nltk</code>: For natural language preprocessing, including tokenization, stop-word removal, and lemmatization.\n",
    "* <code>gensim</code>: For topic modeling using Latent Dirichlet Allocation (LDA).\n",
    "* <code>matplotlib/seaborn</code>: For visualizing the topics and their distribution across documents."
   ]
  },
  {
   "cell_type": "markdown",
   "metadata": {},
   "source": [
    "---"
   ]
  },
  {
   "cell_type": "markdown",
   "metadata": {},
   "source": [
    "<h3>1. Data collection"
   ]
  },
  {
   "cell_type": "markdown",
   "metadata": {},
   "source": [
    "SEARCH QUERY:\n",
    "((disaster OR relief OR humanita*) AND (logistic OR supply AND chain OR operati* OR respons* OR prepare* OR mitigat* OR recover*))"
   ]
  },
  {
   "cell_type": "markdown",
   "metadata": {},
   "source": [
    "<h3>2. Data loading and text processing"
   ]
  },
  {
   "cell_type": "markdown",
   "metadata": {},
   "source": [
    "<h3> 2.1. Data loading"
   ]
  },
  {
   "cell_type": "code",
   "execution_count": 1,
   "metadata": {},
   "outputs": [],
   "source": [
    "# Main libraries for this step\n",
    "import pandas as pd\n",
    "import numpy as np"
   ]
  },
  {
   "cell_type": "markdown",
   "metadata": {},
   "source": [
    "In this case, the dataset is composed by abstracts from Web of Science and Scopus. Each dataset has its own particularities, that will be explained in the following steps."
   ]
  },
  {
   "cell_type": "markdown",
   "metadata": {},
   "source": [
    "<h4>Web of Science"
   ]
  },
  {
   "cell_type": "code",
   "execution_count": 2,
   "metadata": {},
   "outputs": [],
   "source": [
    "# Depending on your dataset(s) and number of files, you will need to read them in this section. \n",
    "# Make sure to check the file type beforehand, pandas library offers a range of functions to read different CSV, JSON, XLSX,...\n",
    "# Web of Science only allows to download 1000 abstracts per query, therefore this step will join all the records in just one dataset.\n",
    "w1 = pd.read_excel('savedrecs (1).xls')\n",
    "w2 = pd.read_excel('savedrecs (2).xls')\n",
    "w3 = pd.read_excel('savedrecs (3).xls')\n",
    "w4 = pd.read_excel('savedrecs (4).xls')\n",
    "w5 = pd.read_excel('savedrecs (5).xls')\n",
    "w6 = pd.read_excel('savedrecs (6).xls')\n",
    "w7 = pd.read_excel('savedrecs (7).xls')\n",
    "w8 = pd.read_excel('savedrecs (8).xls')\n",
    "w9 = pd.read_excel('savedrecs (9).xls')\n",
    "w10 = pd.read_excel('savedrecs (10).xls')\n",
    "w11 = pd.read_excel('savedrecs (11).xls')\n",
    "w12 = pd.read_excel('savedrecs (12).xls')\n",
    "w13 = pd.read_excel('savedrecs (13).xls')\n",
    "w14 = pd.read_excel('savedrecs (14).xls')\n",
    "w15 = pd.read_excel('savedrecs (15).xls')\n",
    "w16 = pd.read_excel('savedrecs (16).xls')\n",
    "w17 = pd.read_excel('savedrecs (17).xls')\n",
    "w18 = pd.read_excel('savedrecs (18).xls')\n",
    "w19 = pd.read_excel('savedrecs (19).xls')\n",
    "w20 = pd.read_excel('savedrecs (20).xls')\n",
    "w21 = pd.read_excel('savedrecs (21).xls')\n",
    "w22 = pd.read_excel('savedrecs (22).xls')\n",
    "w23 = pd.read_excel('savedrecs (23).xls')\n",
    "w24 = pd.read_excel('savedrecs (24).xls')\n",
    "w25 = pd.read_excel('savedrecs (25).xls')\n",
    "w26 = pd.read_excel('savedrecs (26).xls')\n",
    "w27 = pd.read_excel('savedrecs (27).xls')\n",
    "w28 = pd.read_excel('savedrecs (28).xls')\n",
    "w29 = pd.read_excel('savedrecs (29).xls')\n",
    "w30 = pd.read_excel('savedrecs (30).xls')\n",
    "w31 = pd.read_excel('savedrecs (31).xls')"
   ]
  },
  {
   "cell_type": "code",
   "execution_count": 3,
   "metadata": {},
   "outputs": [],
   "source": [
    "# A list is created with all the read files\n",
    "list_wos = [w1, w2, w3, w4, w5, w6, w7, w8, w9, w10, w11, w12, w13, w14, w15, w16, w17, w18, w19, w20, w21, w22, w23, w24, w25,w26, w27, w28, w29, w30, w31]  # List of the dataframes\n",
    "# These are concatenated in just one only variable\n",
    "data_wos = pd.concat(list_wos)"
   ]
  },
  {
   "cell_type": "code",
   "execution_count": 4,
   "metadata": {},
   "outputs": [
    {
     "data": {
      "text/plain": [
       "30369"
      ]
     },
     "execution_count": 4,
     "metadata": {},
     "output_type": "execute_result"
    }
   ],
   "source": [
    "# Number of raw records in Web of Science (considering blanks/missing values)\n",
    "len(data_wos)"
   ]
  },
  {
   "cell_type": "code",
   "execution_count": 5,
   "metadata": {
    "collapsed": true
   },
   "outputs": [
    {
     "data": {
      "text/plain": [
       "Index(['Publication Type', 'Authors', 'Book Authors', 'Book Editors',\n",
       "       'Book Group Authors', 'Author Full Names', 'Book Author Full Names',\n",
       "       'Group Authors', 'Article Title', 'Source Title', 'Book Series Title',\n",
       "       'Book Series Subtitle', 'Language', 'Document Type', 'Conference Title',\n",
       "       'Conference Date', 'Conference Location', 'Conference Sponsor',\n",
       "       'Conference Host', 'Author Keywords', 'Keywords Plus', 'Abstract',\n",
       "       'Addresses', 'Affiliations', 'Reprint Addresses', 'Email Addresses',\n",
       "       'Researcher Ids', 'ORCIDs', 'Funding Orgs', 'Funding Name Preferred',\n",
       "       'Funding Text', 'Cited References', 'Cited Reference Count',\n",
       "       'Times Cited, WoS Core', 'Times Cited, All Databases',\n",
       "       '180 Day Usage Count', 'Since 2013 Usage Count', 'Publisher',\n",
       "       'Publisher City', 'Publisher Address', 'ISSN', 'eISSN', 'ISBN',\n",
       "       'Journal Abbreviation', 'Journal ISO Abbreviation', 'Publication Date',\n",
       "       'Publication Year', 'Volume', 'Issue', 'Part Number', 'Supplement',\n",
       "       'Special Issue', 'Meeting Abstract', 'Start Page', 'End Page',\n",
       "       'Article Number', 'DOI', 'DOI Link', 'Book DOI', 'Early Access Date',\n",
       "       'Number of Pages', 'WoS Categories', 'Web of Science Index',\n",
       "       'Research Areas', 'IDS Number', 'Pubmed Id', 'Open Access Designations',\n",
       "       'Highly Cited Status', 'Hot Paper Status', 'Date of Export',\n",
       "       'UT (Unique WOS ID)', 'Web of Science Record'],\n",
       "      dtype='object')"
      ]
     },
     "execution_count": 5,
     "metadata": {},
     "output_type": "execute_result"
    }
   ],
   "source": [
    "# Metadata in Web of Science records\n",
    "data_wos.columns"
   ]
  },
  {
   "cell_type": "code",
   "execution_count": 6,
   "metadata": {},
   "outputs": [],
   "source": [
    "# Selection of relevant features from the dataset and renaming column names for standardization\n",
    "df_wos = pd.DataFrame()\n",
    "df_wos['DOI'] = data_wos['DOI']\n",
    "df_wos['Article_Title'] = data_wos['Article Title']\n",
    "df_wos['Abstract'] = data_wos['Abstract']\n",
    "df_wos['Author_Keywords'] = data_wos['Author Keywords']\n",
    "df_wos['Author_Full_Names'] = data_wos['Author Full Names']\n",
    "df_wos['Source_Title'] = data_wos['Source Title']\n",
    "df_wos['Publication_Year'] = data_wos['Publication Year']\n",
    "df_wos['DB'] = 'Web of Science' "
   ]
  },
  {
   "cell_type": "code",
   "execution_count": 7,
   "metadata": {
    "collapsed": true
   },
   "outputs": [
    {
     "data": {
      "text/html": [
       "<div>\n",
       "<style scoped>\n",
       "    .dataframe tbody tr th:only-of-type {\n",
       "        vertical-align: middle;\n",
       "    }\n",
       "\n",
       "    .dataframe tbody tr th {\n",
       "        vertical-align: top;\n",
       "    }\n",
       "\n",
       "    .dataframe thead th {\n",
       "        text-align: right;\n",
       "    }\n",
       "</style>\n",
       "<table border=\"1\" class=\"dataframe\">\n",
       "  <thead>\n",
       "    <tr style=\"text-align: right;\">\n",
       "      <th></th>\n",
       "      <th>DOI</th>\n",
       "      <th>Article_Title</th>\n",
       "      <th>Abstract</th>\n",
       "      <th>Author_Keywords</th>\n",
       "      <th>Author_Full_Names</th>\n",
       "      <th>Source_Title</th>\n",
       "      <th>Publication_Year</th>\n",
       "      <th>DB</th>\n",
       "    </tr>\n",
       "  </thead>\n",
       "  <tbody>\n",
       "    <tr>\n",
       "      <th>0</th>\n",
       "      <td>10.1111/j.1745-493X.2012.03267.x</td>\n",
       "      <td>Humanitarian and Disaster Relief Supply Chains...</td>\n",
       "      <td>With an increasing number of disasters disrupt...</td>\n",
       "      <td>humanitarian; disaster; relief planning; respo...</td>\n",
       "      <td>Day, Jamison M.; Melnyk, Steven A.; Larson, Pa...</td>\n",
       "      <td>JOURNAL OF SUPPLY CHAIN MANAGEMENT</td>\n",
       "      <td>2012</td>\n",
       "      <td>Web of Science</td>\n",
       "    </tr>\n",
       "    <tr>\n",
       "      <th>1</th>\n",
       "      <td>10.1111/j.0000-0000.2012.01047.x</td>\n",
       "      <td>Disaster-Relief Logistics With Limited Fuel Su...</td>\n",
       "      <td>Disaster-relief logistics consists of providin...</td>\n",
       "      <td>disaster-relief logistics; vehicle routing; fu...</td>\n",
       "      <td>Suzuki, Yoshinori</td>\n",
       "      <td>JOURNAL OF BUSINESS LOGISTICS</td>\n",
       "      <td>2012</td>\n",
       "      <td>Web of Science</td>\n",
       "    </tr>\n",
       "    <tr>\n",
       "      <th>2</th>\n",
       "      <td>10.1016/j.ijdrr.2017.10.005</td>\n",
       "      <td>Integrated blood supply chain planning for dis...</td>\n",
       "      <td>This paper proposes a multi-objective mixed in...</td>\n",
       "      <td>Blood supply chain; Disaster relief; Multi-obj...</td>\n",
       "      <td>Samani, Mohammad Reza Ghatreh; Torabi, S. Ali;...</td>\n",
       "      <td>INTERNATIONAL JOURNAL OF DISASTER RISK REDUCTION</td>\n",
       "      <td>2018</td>\n",
       "      <td>Web of Science</td>\n",
       "    </tr>\n",
       "    <tr>\n",
       "      <th>3</th>\n",
       "      <td>10.1057/palgrave.jors.2602125</td>\n",
       "      <td>Blackett Memorial Lecture - Humanitarian aid l...</td>\n",
       "      <td>This paper builds on the idea that private sec...</td>\n",
       "      <td>emergency relief operations; humanitarian logi...</td>\n",
       "      <td>Van Wassenhove, LN</td>\n",
       "      <td>JOURNAL OF THE OPERATIONAL RESEARCH SOCIETY</td>\n",
       "      <td>2006</td>\n",
       "      <td>Web of Science</td>\n",
       "    </tr>\n",
       "    <tr>\n",
       "      <th>4</th>\n",
       "      <td>10.1111/jbl.12362</td>\n",
       "      <td>Inherent and adaptive resilience of logistics ...</td>\n",
       "      <td>This study aims to investigate the sources of ...</td>\n",
       "      <td>adaptive resilience; disaster; food supply cha...</td>\n",
       "      <td>Umar, Muhammad; Wilson, Mark M. J.</td>\n",
       "      <td>JOURNAL OF BUSINESS LOGISTICS</td>\n",
       "      <td>2024</td>\n",
       "      <td>Web of Science</td>\n",
       "    </tr>\n",
       "  </tbody>\n",
       "</table>\n",
       "</div>"
      ],
      "text/plain": [
       "                                DOI  \\\n",
       "0  10.1111/j.1745-493X.2012.03267.x   \n",
       "1  10.1111/j.0000-0000.2012.01047.x   \n",
       "2       10.1016/j.ijdrr.2017.10.005   \n",
       "3     10.1057/palgrave.jors.2602125   \n",
       "4                 10.1111/jbl.12362   \n",
       "\n",
       "                                       Article_Title  \\\n",
       "0  Humanitarian and Disaster Relief Supply Chains...   \n",
       "1  Disaster-Relief Logistics With Limited Fuel Su...   \n",
       "2  Integrated blood supply chain planning for dis...   \n",
       "3  Blackett Memorial Lecture - Humanitarian aid l...   \n",
       "4  Inherent and adaptive resilience of logistics ...   \n",
       "\n",
       "                                            Abstract  \\\n",
       "0  With an increasing number of disasters disrupt...   \n",
       "1  Disaster-relief logistics consists of providin...   \n",
       "2  This paper proposes a multi-objective mixed in...   \n",
       "3  This paper builds on the idea that private sec...   \n",
       "4  This study aims to investigate the sources of ...   \n",
       "\n",
       "                                     Author_Keywords  \\\n",
       "0  humanitarian; disaster; relief planning; respo...   \n",
       "1  disaster-relief logistics; vehicle routing; fu...   \n",
       "2  Blood supply chain; Disaster relief; Multi-obj...   \n",
       "3  emergency relief operations; humanitarian logi...   \n",
       "4  adaptive resilience; disaster; food supply cha...   \n",
       "\n",
       "                                   Author_Full_Names  \\\n",
       "0  Day, Jamison M.; Melnyk, Steven A.; Larson, Pa...   \n",
       "1                                  Suzuki, Yoshinori   \n",
       "2  Samani, Mohammad Reza Ghatreh; Torabi, S. Ali;...   \n",
       "3                                 Van Wassenhove, LN   \n",
       "4                 Umar, Muhammad; Wilson, Mark M. J.   \n",
       "\n",
       "                                       Source_Title  Publication_Year  \\\n",
       "0                JOURNAL OF SUPPLY CHAIN MANAGEMENT              2012   \n",
       "1                     JOURNAL OF BUSINESS LOGISTICS              2012   \n",
       "2  INTERNATIONAL JOURNAL OF DISASTER RISK REDUCTION              2018   \n",
       "3       JOURNAL OF THE OPERATIONAL RESEARCH SOCIETY              2006   \n",
       "4                     JOURNAL OF BUSINESS LOGISTICS              2024   \n",
       "\n",
       "               DB  \n",
       "0  Web of Science  \n",
       "1  Web of Science  \n",
       "2  Web of Science  \n",
       "3  Web of Science  \n",
       "4  Web of Science  "
      ]
     },
     "execution_count": 7,
     "metadata": {},
     "output_type": "execute_result"
    }
   ],
   "source": [
    "# Example of the first records in the Web of Science dataset\n",
    "df_wos.head()"
   ]
  },
  {
   "cell_type": "code",
   "execution_count": 8,
   "metadata": {},
   "outputs": [],
   "source": [
    "# Drop blanks or missing values\n",
    "df_wos = df_wos.dropna()"
   ]
  },
  {
   "cell_type": "code",
   "execution_count": 9,
   "metadata": {},
   "outputs": [
    {
     "data": {
      "text/plain": [
       "(24506, 8)"
      ]
     },
     "execution_count": 9,
     "metadata": {},
     "output_type": "execute_result"
    }
   ],
   "source": [
    "# Number of records and number of columns after dropping blanks/missing values\n",
    "df_wos.shape"
   ]
  },
  {
   "cell_type": "code",
   "execution_count": 10,
   "metadata": {},
   "outputs": [],
   "source": [
    "# Saving the Web of Science unified file without blank/missing values\n",
    "df_wos.to_csv(\"wos.csv\",index=False)"
   ]
  },
  {
   "cell_type": "markdown",
   "metadata": {},
   "source": [
    "<h4> Scopus"
   ]
  },
  {
   "cell_type": "code",
   "execution_count": 11,
   "metadata": {},
   "outputs": [],
   "source": [
    "#Scopus allows to download more records per query, in this case we only have one file that contains in total 7523 records.\n",
    "data_scopus = pd.read_csv('scopus original.csv')"
   ]
  },
  {
   "cell_type": "code",
   "execution_count": 12,
   "metadata": {},
   "outputs": [
    {
     "data": {
      "text/plain": [
       "7523"
      ]
     },
     "execution_count": 12,
     "metadata": {},
     "output_type": "execute_result"
    }
   ],
   "source": [
    "len(data_scopus)"
   ]
  },
  {
   "cell_type": "code",
   "execution_count": 13,
   "metadata": {
    "collapsed": true
   },
   "outputs": [
    {
     "data": {
      "text/plain": [
       "Index(['Authors', 'Author full names', 'Author(s) ID', 'Title', 'Year',\n",
       "       'Source title', 'Volume', 'Issue', 'Art. No.', 'Page start', 'Page end',\n",
       "       'Page count', 'Cited by', 'DOI', 'Link', 'Abstract', 'Author Keywords',\n",
       "       'Index Keywords', 'Document Type', 'Publication Stage', 'Open Access',\n",
       "       'Source', 'EID'],\n",
       "      dtype='object')"
      ]
     },
     "execution_count": 13,
     "metadata": {},
     "output_type": "execute_result"
    }
   ],
   "source": [
    "# Metadata in Scopus records\n",
    "data_scopus.columns"
   ]
  },
  {
   "cell_type": "code",
   "execution_count": 14,
   "metadata": {},
   "outputs": [],
   "source": [
    "# Selection of relevant features from the dataset and renaming column names for standardization\n",
    "df_scopus = pd.DataFrame()\n",
    "df_scopus['DOI'] = data_scopus['DOI']\n",
    "df_scopus['Article_Title'] = data_scopus['Title']\n",
    "df_scopus['Abstract'] = data_scopus['Abstract']\n",
    "df_scopus['Author_Keywords'] = data_scopus['Author Keywords']\n",
    "df_scopus['Author_Full_Names'] = data_scopus['Authors']\n",
    "df_scopus['Source_Title'] = data_scopus['Source title']\n",
    "df_scopus['Publication_Year'] = data_scopus['Year']\n",
    "df_scopus['DB'] = 'Scopus'"
   ]
  },
  {
   "cell_type": "code",
   "execution_count": 15,
   "metadata": {},
   "outputs": [
    {
     "data": {
      "text/plain": [
       "(7523, 8)"
      ]
     },
     "execution_count": 15,
     "metadata": {},
     "output_type": "execute_result"
    }
   ],
   "source": [
    "# Number of records and number of columns before dropping blanks/missing values\n",
    "df_scopus.shape"
   ]
  },
  {
   "cell_type": "code",
   "execution_count": 16,
   "metadata": {},
   "outputs": [],
   "source": [
    "# Drop blanks or missing values\n",
    "df_scopus = df_scopus.dropna()"
   ]
  },
  {
   "cell_type": "code",
   "execution_count": 17,
   "metadata": {},
   "outputs": [
    {
     "data": {
      "text/plain": [
       "(5902, 8)"
      ]
     },
     "execution_count": 17,
     "metadata": {},
     "output_type": "execute_result"
    }
   ],
   "source": [
    "# Number of records and number of columns after dropping blanks/missing values\n",
    "df_scopus.shape"
   ]
  },
  {
   "cell_type": "code",
   "execution_count": 18,
   "metadata": {},
   "outputs": [],
   "source": [
    "# Selecting and dropping records that aren't empty but have 'No abstract available'/'No author available' \n",
    "df_scopus = df_scopus.drop(df_scopus[df_scopus['Abstract'] == '[No abstract available]'].index) \n",
    "df_scopus = df_scopus.drop(df_scopus[df_scopus['Author_Full_Names'] == '[No author available]'].index) "
   ]
  },
  {
   "cell_type": "code",
   "execution_count": 19,
   "metadata": {},
   "outputs": [
    {
     "data": {
      "text/plain": [
       "(5898, 8)"
      ]
     },
     "execution_count": 19,
     "metadata": {},
     "output_type": "execute_result"
    }
   ],
   "source": [
    "# Number of records and number of columns after dropping cases with specificified condition\n",
    "df_scopus.shape"
   ]
  },
  {
   "cell_type": "code",
   "execution_count": 20,
   "metadata": {},
   "outputs": [],
   "source": [
    "# Saving the Scopus unified file without blank/missing values\n",
    "df_scopus.to_csv(\"scopus.csv\",index=False)"
   ]
  },
  {
   "cell_type": "markdown",
   "metadata": {},
   "source": [
    "---"
   ]
  },
  {
   "cell_type": "markdown",
   "metadata": {},
   "source": [
    "<h4> Concatenating WoS with Scopus in one dataset"
   ]
  },
  {
   "cell_type": "code",
   "execution_count": 21,
   "metadata": {},
   "outputs": [],
   "source": [
    "# This command allows to concatenate the Scopus and Web of Science datasets in one dataset\n",
    "df_wos_scopus = pd.DataFrame()\n",
    "df_wos_scopus = pd.concat([df_wos,df_scopus], ignore_index=True)"
   ]
  },
  {
   "cell_type": "code",
   "execution_count": 22,
   "metadata": {},
   "outputs": [
    {
     "data": {
      "text/plain": [
       "(30404, 8)"
      ]
     },
     "execution_count": 22,
     "metadata": {},
     "output_type": "execute_result"
    }
   ],
   "source": [
    "# Final raw number of records and columns (including duplicates within the datasets)\n",
    "df_wos_scopus.shape"
   ]
  },
  {
   "cell_type": "code",
   "execution_count": 23,
   "metadata": {},
   "outputs": [
    {
     "data": {
      "text/plain": [
       "(28814, 8)"
      ]
     },
     "execution_count": 23,
     "metadata": {},
     "output_type": "execute_result"
    }
   ],
   "source": [
    "# This helps to find the duplicated records in the dataset\n",
    "df_wos_scopus = df_wos_scopus.drop_duplicates()\n",
    "df_wos_scopus.shape"
   ]
  },
  {
   "cell_type": "code",
   "execution_count": 24,
   "metadata": {},
   "outputs": [
    {
     "data": {
      "text/plain": [
       "(28814, 8)"
      ]
     },
     "execution_count": 24,
     "metadata": {},
     "output_type": "execute_result"
    }
   ],
   "source": [
    "# Formatting Author Keywords as string, for following text processing\n",
    "df_wos_scopus['Author_Keywords'] = df_wos_scopus['Author_Keywords'].astype(str)\n",
    "# After deleting some rows due to the condition above, we need to restart the count index\n",
    "df_wos_scopus.reset_index(drop=True, inplace=True)\n",
    "df_wos_scopus.shape"
   ]
  },
  {
   "cell_type": "code",
   "execution_count": 25,
   "metadata": {},
   "outputs": [],
   "source": [
    "# To facilitate later processing, Article title, abstract and keywords are joined in a single dataset column\n",
    "df_wos_scopus['Input'] = df_wos_scopus[['Article_Title', 'Abstract', 'Author_Keywords' ]].agg('-'.join, axis=1)"
   ]
  },
  {
   "cell_type": "code",
   "execution_count": 26,
   "metadata": {},
   "outputs": [],
   "source": [
    "# Saving the unified file without duplicate values\n",
    "df_wos_scopus.to_excel('df_wos_scopus_vf.xlsx',index=False)"
   ]
  },
  {
   "cell_type": "code",
   "execution_count": 74,
   "metadata": {},
   "outputs": [
    {
     "data": {
      "text/html": [
       "<div>\n",
       "<style scoped>\n",
       "    .dataframe tbody tr th:only-of-type {\n",
       "        vertical-align: middle;\n",
       "    }\n",
       "\n",
       "    .dataframe tbody tr th {\n",
       "        vertical-align: top;\n",
       "    }\n",
       "\n",
       "    .dataframe thead th {\n",
       "        text-align: right;\n",
       "    }\n",
       "</style>\n",
       "<table border=\"1\" class=\"dataframe\">\n",
       "  <thead>\n",
       "    <tr style=\"text-align: right;\">\n",
       "      <th></th>\n",
       "      <th>DB</th>\n",
       "      <th>Publication_Count</th>\n",
       "    </tr>\n",
       "  </thead>\n",
       "  <tbody>\n",
       "    <tr>\n",
       "      <th>0</th>\n",
       "      <td>Scopus</td>\n",
       "      <td>5898</td>\n",
       "    </tr>\n",
       "    <tr>\n",
       "      <th>1</th>\n",
       "      <td>Web of Science</td>\n",
       "      <td>22916</td>\n",
       "    </tr>\n",
       "  </tbody>\n",
       "</table>\n",
       "</div>"
      ],
      "text/plain": [
       "               DB  Publication_Count\n",
       "0          Scopus               5898\n",
       "1  Web of Science              22916"
      ]
     },
     "execution_count": 74,
     "metadata": {},
     "output_type": "execute_result"
    }
   ],
   "source": [
    "db_counts = df_wos_scopus.groupby('DB').size().reset_index(name='Publication_Count')\n",
    "db_counts"
   ]
  },
  {
   "cell_type": "markdown",
   "metadata": {},
   "source": [
    "---"
   ]
  },
  {
   "cell_type": "markdown",
   "metadata": {},
   "source": [
    "<h3> 2.2. Text processing"
   ]
  },
  {
   "cell_type": "code",
   "execution_count": 2,
   "metadata": {},
   "outputs": [],
   "source": [
    "import re\n",
    "import nltk\n",
    "from nltk.corpus import stopwords\n",
    "from nltk.stem import WordNetLemmatizer"
   ]
  },
  {
   "cell_type": "code",
   "execution_count": 31,
   "metadata": {},
   "outputs": [],
   "source": [
    "# Given a string of text, rejects words with less than 3 characters, numbers, underscores, whitespace, quote marks, and other punctuation\n",
    "def firstclean(texto):\n",
    "    out = []\n",
    "    texto = texto.lower()\n",
    "    tokens =  re.findall(r'[a-zA-Z]+',texto)\n",
    "    for w in tokens:\n",
    "        if (len(w)>3):\n",
    "            out.append(w)\n",
    "    \n",
    "    return \" \".join(out)"
   ]
  },
  {
   "cell_type": "code",
   "execution_count": 32,
   "metadata": {},
   "outputs": [
    {
     "name": "stdout",
     "output_type": "stream",
     "text": [
      "Wall time: 0 ns\n"
     ]
    }
   ],
   "source": [
    "%%time\n",
    "# Application of the function in the Input column\n",
    "df_wos_scopus['Cleaned_text'] = df_wos_scopus['Input'].apply(firstclean)"
   ]
  },
  {
   "cell_type": "code",
   "execution_count": 33,
   "metadata": {},
   "outputs": [],
   "source": [
    "# This function lowercases, tokenizes in single words, removes non-alphabets and stopwords in all texts\n",
    "stopwords = list(stopwords.words('english'))\n",
    "# academic vocab \n",
    "extras = ['humanitarian','relief', 'disaster', 'logistic', 'supply', 'chain', 'operations', 'response', 'preparedness', 'mitigation', 'recovery','abstract','research','paper','purpose', 'design', 'methodology', 'approach', 'findings', 'use', 'analysis', 'practical', 'result', 'problem', 'article', 'implications', 'originality', 'value', 'conclusion', 'method', 'result','study','aims','aim']\n",
    "# join both lists\n",
    "sw = stopwords + extras\n",
    "\n",
    "def preprocess(text):\n",
    "    text = text.lower()\n",
    "    tokens = nltk.word_tokenize(text)\n",
    "    tokens = [word for word in tokens if word.isalpha()]  # Remove non-alphabetic words\n",
    "    tokens = [word for word in tokens if word not in sw]  # Remove stopwords\n",
    "    lemmatizer = WordNetLemmatizer()\n",
    "    tokens = [lemmatizer.lemmatize(word) for word in tokens]\n",
    "    return tokens"
   ]
  },
  {
   "cell_type": "code",
   "execution_count": 34,
   "metadata": {},
   "outputs": [
    {
     "name": "stdout",
     "output_type": "stream",
     "text": [
      "Wall time: 0 ns\n"
     ]
    }
   ],
   "source": [
    "%%time\n",
    "# Application of the function in the Input column\n",
    "df_wos_scopus['Processed_text'] = df_wos_scopus['Cleaned_text'].apply(preprocess)"
   ]
  },
  {
   "cell_type": "code",
   "execution_count": 35,
   "metadata": {
    "collapsed": true
   },
   "outputs": [
    {
     "data": {
      "text/html": [
       "<div>\n",
       "<style scoped>\n",
       "    .dataframe tbody tr th:only-of-type {\n",
       "        vertical-align: middle;\n",
       "    }\n",
       "\n",
       "    .dataframe tbody tr th {\n",
       "        vertical-align: top;\n",
       "    }\n",
       "\n",
       "    .dataframe thead th {\n",
       "        text-align: right;\n",
       "    }\n",
       "</style>\n",
       "<table border=\"1\" class=\"dataframe\">\n",
       "  <thead>\n",
       "    <tr style=\"text-align: right;\">\n",
       "      <th></th>\n",
       "      <th>DOI</th>\n",
       "      <th>Article_Title</th>\n",
       "      <th>Abstract</th>\n",
       "      <th>Author_Keywords</th>\n",
       "      <th>Author_Full_Names</th>\n",
       "      <th>Source_Title</th>\n",
       "      <th>Publication_Year</th>\n",
       "      <th>DB</th>\n",
       "      <th>Input</th>\n",
       "      <th>Cleaned_text</th>\n",
       "      <th>Processed_text</th>\n",
       "    </tr>\n",
       "  </thead>\n",
       "  <tbody>\n",
       "    <tr>\n",
       "      <th>0</th>\n",
       "      <td>10.1111/j.1745-493X.2012.03267.x</td>\n",
       "      <td>Humanitarian and Disaster Relief Supply Chains...</td>\n",
       "      <td>With an increasing number of disasters disrupt...</td>\n",
       "      <td>humanitarian; disaster; relief planning; respo...</td>\n",
       "      <td>Day, Jamison M.; Melnyk, Steven A.; Larson, Pa...</td>\n",
       "      <td>JOURNAL OF SUPPLY CHAIN MANAGEMENT</td>\n",
       "      <td>2012</td>\n",
       "      <td>Web of Science</td>\n",
       "      <td>Humanitarian and Disaster Relief Supply Chains...</td>\n",
       "      <td>humanitarian disaster relief supply chains mat...</td>\n",
       "      <td>[chain, matter, life, death, increasing, numbe...</td>\n",
       "    </tr>\n",
       "    <tr>\n",
       "      <th>1</th>\n",
       "      <td>10.1111/j.0000-0000.2012.01047.x</td>\n",
       "      <td>Disaster-Relief Logistics With Limited Fuel Su...</td>\n",
       "      <td>Disaster-relief logistics consists of providin...</td>\n",
       "      <td>disaster-relief logistics; vehicle routing; fu...</td>\n",
       "      <td>Suzuki, Yoshinori</td>\n",
       "      <td>JOURNAL OF BUSINESS LOGISTICS</td>\n",
       "      <td>2012</td>\n",
       "      <td>Web of Science</td>\n",
       "      <td>Disaster-Relief Logistics With Limited Fuel Su...</td>\n",
       "      <td>disaster relief logistics with limited fuel su...</td>\n",
       "      <td>[logistics, limited, fuel, logistics, consists...</td>\n",
       "    </tr>\n",
       "    <tr>\n",
       "      <th>2</th>\n",
       "      <td>10.1016/j.ijdrr.2017.10.005</td>\n",
       "      <td>Integrated blood supply chain planning for dis...</td>\n",
       "      <td>This paper proposes a multi-objective mixed in...</td>\n",
       "      <td>Blood supply chain; Disaster relief; Multi-obj...</td>\n",
       "      <td>Samani, Mohammad Reza Ghatreh; Torabi, S. Ali;...</td>\n",
       "      <td>INTERNATIONAL JOURNAL OF DISASTER RISK REDUCTION</td>\n",
       "      <td>2018</td>\n",
       "      <td>Web of Science</td>\n",
       "      <td>Integrated blood supply chain planning for dis...</td>\n",
       "      <td>integrated blood supply chain planning disaste...</td>\n",
       "      <td>[integrated, blood, planning, proposes, multi,...</td>\n",
       "    </tr>\n",
       "    <tr>\n",
       "      <th>3</th>\n",
       "      <td>10.1057/palgrave.jors.2602125</td>\n",
       "      <td>Blackett Memorial Lecture - Humanitarian aid l...</td>\n",
       "      <td>This paper builds on the idea that private sec...</td>\n",
       "      <td>emergency relief operations; humanitarian logi...</td>\n",
       "      <td>Van Wassenhove, LN</td>\n",
       "      <td>JOURNAL OF THE OPERATIONAL RESEARCH SOCIETY</td>\n",
       "      <td>2006</td>\n",
       "      <td>Web of Science</td>\n",
       "      <td>Blackett Memorial Lecture - Humanitarian aid l...</td>\n",
       "      <td>blackett memorial lecture humanitarian logisti...</td>\n",
       "      <td>[blackett, memorial, lecture, logistics, manag...</td>\n",
       "    </tr>\n",
       "    <tr>\n",
       "      <th>4</th>\n",
       "      <td>10.1111/jbl.12362</td>\n",
       "      <td>Inherent and adaptive resilience of logistics ...</td>\n",
       "      <td>This study aims to investigate the sources of ...</td>\n",
       "      <td>adaptive resilience; disaster; food supply cha...</td>\n",
       "      <td>Umar, Muhammad; Wilson, Mark M. J.</td>\n",
       "      <td>JOURNAL OF BUSINESS LOGISTICS</td>\n",
       "      <td>2024</td>\n",
       "      <td>Web of Science</td>\n",
       "      <td>Inherent and adaptive resilience of logistics ...</td>\n",
       "      <td>inherent adaptive resilience logistics operati...</td>\n",
       "      <td>[inherent, adaptive, resilience, logistics, fo...</td>\n",
       "    </tr>\n",
       "    <tr>\n",
       "      <th>...</th>\n",
       "      <td>...</td>\n",
       "      <td>...</td>\n",
       "      <td>...</td>\n",
       "      <td>...</td>\n",
       "      <td>...</td>\n",
       "      <td>...</td>\n",
       "      <td>...</td>\n",
       "      <td>...</td>\n",
       "      <td>...</td>\n",
       "      <td>...</td>\n",
       "      <td>...</td>\n",
       "    </tr>\n",
       "    <tr>\n",
       "      <th>28809</th>\n",
       "      <td>10.1038/sc.1993.113</td>\n",
       "      <td>Relief of spasticity in SCI men and women usin...</td>\n",
       "      <td>Although there are numerous approaches to the ...</td>\n",
       "      <td>Disability; Electrostimulation; Spasticity; Sp...</td>\n",
       "      <td>Halstead L.S.; Seager S.W.J.; Houston J.M.; Wh...</td>\n",
       "      <td>Paraplegia</td>\n",
       "      <td>1993</td>\n",
       "      <td>Scopus</td>\n",
       "      <td>Relief of spasticity in SCI men and women usin...</td>\n",
       "      <td>relief spasticity women using rectal probe ele...</td>\n",
       "      <td>[spasticity, woman, using, rectal, probe, elec...</td>\n",
       "    </tr>\n",
       "    <tr>\n",
       "      <th>28810</th>\n",
       "      <td>10.1080/07488009308409073</td>\n",
       "      <td>Initial medical reception, intervention and su...</td>\n",
       "      <td>Service medical teams were involved in the med...</td>\n",
       "      <td>Medical intervention; Medical screening; North...</td>\n",
       "      <td>Miller A.R.O.; Kershaw C.R.</td>\n",
       "      <td>Medicine and War</td>\n",
       "      <td>1993</td>\n",
       "      <td>Scopus</td>\n",
       "      <td>Initial medical reception, intervention and su...</td>\n",
       "      <td>initial medical reception intervention survey ...</td>\n",
       "      <td>[initial, medical, reception, intervention, su...</td>\n",
       "    </tr>\n",
       "    <tr>\n",
       "      <th>28811</th>\n",
       "      <td>10.1111/j.1600-0722.1993.tb01138.x</td>\n",
       "      <td>Microvasculature of the dorsum of the rat tong...</td>\n",
       "      <td>The purpose of this study was to examine the m...</td>\n",
       "      <td>corrosion cast; microvasculature; rat; sphinct...</td>\n",
       "      <td>Selliseth N.J.; Selvig K.A.</td>\n",
       "      <td>European Journal of Oral Sciences</td>\n",
       "      <td>1993</td>\n",
       "      <td>Scopus</td>\n",
       "      <td>Microvasculature of the dorsum of the rat tong...</td>\n",
       "      <td>microvasculature dorsum tongue scanning electr...</td>\n",
       "      <td>[microvasculature, dorsum, tongue, scanning, e...</td>\n",
       "    </tr>\n",
       "    <tr>\n",
       "      <th>28812</th>\n",
       "      <td>10.1016/0167-4730(93)90015-S</td>\n",
       "      <td>Earthquake damage estimation and decision anal...</td>\n",
       "      <td>Earthquake damage estimation for lifelines can...</td>\n",
       "      <td>earthquake damage; fuzzy decision analysis; fu...</td>\n",
       "      <td>Cret L.; Yamazaki F.; Nagata S.; Katayama T.</td>\n",
       "      <td>Structural Safety</td>\n",
       "      <td>1993</td>\n",
       "      <td>Scopus</td>\n",
       "      <td>Earthquake damage estimation and decision anal...</td>\n",
       "      <td>earthquake damage estimation decision analysis...</td>\n",
       "      <td>[earthquake, damage, estimation, decision, eme...</td>\n",
       "    </tr>\n",
       "    <tr>\n",
       "      <th>28813</th>\n",
       "      <td>10.1016/S0196-0644(05)81312-5</td>\n",
       "      <td>Analysis of medical treatment at a field hospi...</td>\n",
       "      <td>Study objective: To determine what medical car...</td>\n",
       "      <td>disasters; epidemiology disasters; hurricanes;...</td>\n",
       "      <td>Alson R.; Alexander D.; Leonard R.B.; Stringer...</td>\n",
       "      <td>Annals of Emergency Medicine</td>\n",
       "      <td>1993</td>\n",
       "      <td>Scopus</td>\n",
       "      <td>Analysis of medical treatment at a field hospi...</td>\n",
       "      <td>analysis medical treatment field hospital foll...</td>\n",
       "      <td>[medical, treatment, field, hospital, followin...</td>\n",
       "    </tr>\n",
       "  </tbody>\n",
       "</table>\n",
       "<p>28814 rows × 11 columns</p>\n",
       "</div>"
      ],
      "text/plain": [
       "                                      DOI  \\\n",
       "0        10.1111/j.1745-493X.2012.03267.x   \n",
       "1        10.1111/j.0000-0000.2012.01047.x   \n",
       "2             10.1016/j.ijdrr.2017.10.005   \n",
       "3           10.1057/palgrave.jors.2602125   \n",
       "4                       10.1111/jbl.12362   \n",
       "...                                   ...   \n",
       "28809                 10.1038/sc.1993.113   \n",
       "28810           10.1080/07488009308409073   \n",
       "28811  10.1111/j.1600-0722.1993.tb01138.x   \n",
       "28812        10.1016/0167-4730(93)90015-S   \n",
       "28813       10.1016/S0196-0644(05)81312-5   \n",
       "\n",
       "                                           Article_Title  \\\n",
       "0      Humanitarian and Disaster Relief Supply Chains...   \n",
       "1      Disaster-Relief Logistics With Limited Fuel Su...   \n",
       "2      Integrated blood supply chain planning for dis...   \n",
       "3      Blackett Memorial Lecture - Humanitarian aid l...   \n",
       "4      Inherent and adaptive resilience of logistics ...   \n",
       "...                                                  ...   \n",
       "28809  Relief of spasticity in SCI men and women usin...   \n",
       "28810  Initial medical reception, intervention and su...   \n",
       "28811  Microvasculature of the dorsum of the rat tong...   \n",
       "28812  Earthquake damage estimation and decision anal...   \n",
       "28813  Analysis of medical treatment at a field hospi...   \n",
       "\n",
       "                                                Abstract  \\\n",
       "0      With an increasing number of disasters disrupt...   \n",
       "1      Disaster-relief logistics consists of providin...   \n",
       "2      This paper proposes a multi-objective mixed in...   \n",
       "3      This paper builds on the idea that private sec...   \n",
       "4      This study aims to investigate the sources of ...   \n",
       "...                                                  ...   \n",
       "28809  Although there are numerous approaches to the ...   \n",
       "28810  Service medical teams were involved in the med...   \n",
       "28811  The purpose of this study was to examine the m...   \n",
       "28812  Earthquake damage estimation for lifelines can...   \n",
       "28813  Study objective: To determine what medical car...   \n",
       "\n",
       "                                         Author_Keywords  \\\n",
       "0      humanitarian; disaster; relief planning; respo...   \n",
       "1      disaster-relief logistics; vehicle routing; fu...   \n",
       "2      Blood supply chain; Disaster relief; Multi-obj...   \n",
       "3      emergency relief operations; humanitarian logi...   \n",
       "4      adaptive resilience; disaster; food supply cha...   \n",
       "...                                                  ...   \n",
       "28809  Disability; Electrostimulation; Spasticity; Sp...   \n",
       "28810  Medical intervention; Medical screening; North...   \n",
       "28811  corrosion cast; microvasculature; rat; sphinct...   \n",
       "28812  earthquake damage; fuzzy decision analysis; fu...   \n",
       "28813  disasters; epidemiology disasters; hurricanes;...   \n",
       "\n",
       "                                       Author_Full_Names  \\\n",
       "0      Day, Jamison M.; Melnyk, Steven A.; Larson, Pa...   \n",
       "1                                      Suzuki, Yoshinori   \n",
       "2      Samani, Mohammad Reza Ghatreh; Torabi, S. Ali;...   \n",
       "3                                     Van Wassenhove, LN   \n",
       "4                     Umar, Muhammad; Wilson, Mark M. J.   \n",
       "...                                                  ...   \n",
       "28809  Halstead L.S.; Seager S.W.J.; Houston J.M.; Wh...   \n",
       "28810                        Miller A.R.O.; Kershaw C.R.   \n",
       "28811                        Selliseth N.J.; Selvig K.A.   \n",
       "28812       Cret L.; Yamazaki F.; Nagata S.; Katayama T.   \n",
       "28813  Alson R.; Alexander D.; Leonard R.B.; Stringer...   \n",
       "\n",
       "                                           Source_Title  Publication_Year  \\\n",
       "0                    JOURNAL OF SUPPLY CHAIN MANAGEMENT              2012   \n",
       "1                         JOURNAL OF BUSINESS LOGISTICS              2012   \n",
       "2      INTERNATIONAL JOURNAL OF DISASTER RISK REDUCTION              2018   \n",
       "3           JOURNAL OF THE OPERATIONAL RESEARCH SOCIETY              2006   \n",
       "4                         JOURNAL OF BUSINESS LOGISTICS              2024   \n",
       "...                                                 ...               ...   \n",
       "28809                                        Paraplegia              1993   \n",
       "28810                                  Medicine and War              1993   \n",
       "28811                 European Journal of Oral Sciences              1993   \n",
       "28812                                 Structural Safety              1993   \n",
       "28813                      Annals of Emergency Medicine              1993   \n",
       "\n",
       "                   DB                                              Input  \\\n",
       "0      Web of Science  Humanitarian and Disaster Relief Supply Chains...   \n",
       "1      Web of Science  Disaster-Relief Logistics With Limited Fuel Su...   \n",
       "2      Web of Science  Integrated blood supply chain planning for dis...   \n",
       "3      Web of Science  Blackett Memorial Lecture - Humanitarian aid l...   \n",
       "4      Web of Science  Inherent and adaptive resilience of logistics ...   \n",
       "...               ...                                                ...   \n",
       "28809          Scopus  Relief of spasticity in SCI men and women usin...   \n",
       "28810          Scopus  Initial medical reception, intervention and su...   \n",
       "28811          Scopus  Microvasculature of the dorsum of the rat tong...   \n",
       "28812          Scopus  Earthquake damage estimation and decision anal...   \n",
       "28813          Scopus  Analysis of medical treatment at a field hospi...   \n",
       "\n",
       "                                            Cleaned_text  \\\n",
       "0      humanitarian disaster relief supply chains mat...   \n",
       "1      disaster relief logistics with limited fuel su...   \n",
       "2      integrated blood supply chain planning disaste...   \n",
       "3      blackett memorial lecture humanitarian logisti...   \n",
       "4      inherent adaptive resilience logistics operati...   \n",
       "...                                                  ...   \n",
       "28809  relief spasticity women using rectal probe ele...   \n",
       "28810  initial medical reception intervention survey ...   \n",
       "28811  microvasculature dorsum tongue scanning electr...   \n",
       "28812  earthquake damage estimation decision analysis...   \n",
       "28813  analysis medical treatment field hospital foll...   \n",
       "\n",
       "                                          Processed_text  \n",
       "0      [chain, matter, life, death, increasing, numbe...  \n",
       "1      [logistics, limited, fuel, logistics, consists...  \n",
       "2      [integrated, blood, planning, proposes, multi,...  \n",
       "3      [blackett, memorial, lecture, logistics, manag...  \n",
       "4      [inherent, adaptive, resilience, logistics, fo...  \n",
       "...                                                  ...  \n",
       "28809  [spasticity, woman, using, rectal, probe, elec...  \n",
       "28810  [initial, medical, reception, intervention, su...  \n",
       "28811  [microvasculature, dorsum, tongue, scanning, e...  \n",
       "28812  [earthquake, damage, estimation, decision, eme...  \n",
       "28813  [medical, treatment, field, hospital, followin...  \n",
       "\n",
       "[28814 rows x 11 columns]"
      ]
     },
     "execution_count": 35,
     "metadata": {},
     "output_type": "execute_result"
    }
   ],
   "source": [
    "df_wos_scopus"
   ]
  },
  {
   "cell_type": "markdown",
   "metadata": {},
   "source": [
    "In this matrix each document is represented as a vector of word counts or term frequencies."
   ]
  },
  {
   "cell_type": "code",
   "execution_count": 3,
   "metadata": {},
   "outputs": [],
   "source": [
    "from gensim import corpora"
   ]
  },
  {
   "cell_type": "code",
   "execution_count": 39,
   "metadata": {},
   "outputs": [],
   "source": [
    "# Create dictionary and DTM\n",
    "dictionary = corpora.Dictionary(df_wos_scopus['Processed_text'])\n",
    "corpus = [dictionary.doc2bow(text) for text in df_wos_scopus['Processed_text']]"
   ]
  },
  {
   "cell_type": "markdown",
   "metadata": {},
   "source": [
    "---"
   ]
  },
  {
   "cell_type": "markdown",
   "metadata": {},
   "source": [
    "<h3> 3. Topic Modeling using LDA and Perplexity Evaluation"
   ]
  },
  {
   "cell_type": "markdown",
   "metadata": {},
   "source": [
    "### 3.1. Latent Dirichlet Allocation (LDA)\n",
    "\n",
    "<code>Blei, D. M., Ng, A. Y., & Jordan, M. I. (2003). Latent dirichlet allocation. Journal of machine Learning research, 3(Jan), 993-1022.</code>\n",
    "\n",
    "Latent Dirichlet Allocation (LDA) is a generative probabilistic model used to represent documents as mixtures of topics, where each topic is a distribution over words. The goal of LDA is to uncover the hidden thematic structure (topics) in a large collection of documents.\n",
    "\n",
    "The formula for LDA is:\n",
    "\n",
    "$$\n",
    "P(\\mathbf{w}, \\mathbf{z}, \\theta, \\phi \\mid \\alpha, \\beta) = P(\\theta \\mid \\alpha) \\prod_{k=1}^{K} P(\\phi_k \\mid \\beta) \\prod_{n=1}^{N} P(z_n \\mid \\theta) P(w_n \\mid z_n, \\phi)\n",
    "$$\n",
    "\n",
    "Where:\n",
    "- $\\mathbf{w} = (w_1, w_2, \\dots, w_N)$ are the words in the document.\n",
    "- $\\mathbf{z} = (z_1, z_2, \\dots, z_N)$ are the topic assignments for each word.\n",
    "- $\\theta$ is the topic distribution for the document.\n",
    "- $\\phi_k$ is the word distribution for topic $k$.\n",
    "- $\\alpha$ and $\\beta$ are hyperparameters that control the distributions of topics and words.\n",
    "\n",
    "### Components:\n",
    "1. **Document-Topic Distribution ($\\theta$)**: \n",
    "   - This is the distribution of topics within a document.\n",
    "   - It follows a Dirichlet distribution with parameter $\\alpha$, which controls the sparsity of topic proportions in a document. Higher $\\alpha$ values lead to more diverse topic mixtures per document.\n",
    "   - $P(\\theta \\mid \\alpha)$ is the probability of the topic distribution given the Dirichlet prior $\\alpha$.\n",
    "\n",
    "2. **Topic-Word Distribution ($\\phi_k$)**:\n",
    "   - Each topic is represented as a distribution over words.\n",
    "   - This also follows a Dirichlet distribution with parameter $\\beta$, which controls how many words are likely to appear in a topic. A higher $\\beta$ leads to more words being assigned to each topic.\n",
    "   - $P(\\phi_k \\mid \\beta)$ is the probability of the word distribution for topic $k$ given the Dirichlet prior $\\beta$.\n",
    "\n",
    "3. **Topic Assignment ($z_n$)**:\n",
    "   - Each word $w_n$ in the document is assigned to a topic $z_n$.\n",
    "   - $P(z_n \\mid \\theta)$ is the probability of assigning word $n$ to topic $z_n$, based on the document’s topic distribution $\\theta$.\n",
    "\n",
    "4. **Word Likelihood ($P(w_n \\mid z_n, \\phi)$)**:\n",
    "   - Given a topic $z_n$, the word $w_n$ is drawn from the corresponding topic’s word distribution $\\phi_{z_n}$.\n",
    "   - This is the likelihood of observing the word $w_n$ in the document under the topic assignment $z_n$.\n",
    "\n",
    "### Generative Process:\n",
    "1. For each document $d$, sample a topic distribution $\\theta_d \\sim \\text{Dir}(\\alpha)$.\n",
    "2. For each topic $k$, sample a word distribution $\\phi_k \\sim \\text{Dir}(\\beta)$.\n",
    "3. For each word $n$ in the document:\n",
    "   - Sample a topic $z_n \\sim \\text{Multinomial}(\\theta_d)$.\n",
    "   - Sample a word $w_n \\sim \\text{Multinomial}(\\phi_{z_n})$."
   ]
  },
  {
   "cell_type": "markdown",
   "metadata": {},
   "source": [
    "### 3.2. Perplexity Formula\n",
    "\n",
    "Perplexity is a measurement used to evaluate how well a probabilistic model, such as Latent Dirichlet Allocation (LDA), predicts a set of data. The formula for perplexity is:\n",
    "\n",
    "$$\n",
    "\\text{Perplexity}(D) = \\exp \\left( - \\frac{ \\sum_{d=1}^{M} \\log P(w_d) }{ \\sum_{d=1}^{M} N_d } \\right)\n",
    "$$\n",
    "Where:\n",
    "- $D$ is the corpus (set of documents).\n",
    "- $M$ is the number of documents in the corpus.\n",
    "- $N_d$ is the number of words in document $d$.\n",
    "- $w_d$ are the words in document $d$.\n",
    "- $P(w_d)$ is the likelihood of the words in document $d$ under the given model.\n",
    "\n",
    "### Components:\n",
    "- **Log-Likelihood $P(w_d)$**: The probability of the words in a document given the learned topics. This is the likelihood of the words occurring according to the distribution of topics and word probabilities learned by the LDA model.\n",
    "- **Summation of Log-Likelihood**: The summation $\\sum_{d=1}^{M} \\log P(w_d)$ gives the log-likelihood of the entire corpus.\n",
    "- **Normalization by Total Words**: The total number of words across all documents, $\\sum_{d=1}^{M} N_d\\$, normalizes the log-likelihood by the corpus size to avoid biases from the number of documents or length of documents.\n",
    "- **Exponential Function**: Finally, the exponential function is applied to convert the negative log-likelihood into the perplexity score, making it more interpretable (lower values indicate better fit).\n",
    "\n",
    "A lower perplexity score indicates that the model better predicts the words in the documents, thus representing the topics more accurately.\n"
   ]
  },
  {
   "cell_type": "markdown",
   "metadata": {},
   "source": [
    "---"
   ]
  },
  {
   "cell_type": "markdown",
   "metadata": {},
   "source": [
    "In this step, we will train an LDA model on the document-term matrix to extract topics. In that sense, we will iterate over a range of \"k\" topics, and choose the best fit for our dataset. **The ideal number of \"k\" topics will vary depending on each dataset.**"
   ]
  },
  {
   "cell_type": "code",
   "execution_count": 4,
   "metadata": {},
   "outputs": [],
   "source": [
    "from gensim.models.ldamodel import LdaModel\n",
    "from gensim.models import CoherenceModel"
   ]
  },
  {
   "cell_type": "code",
   "execution_count": 42,
   "metadata": {},
   "outputs": [],
   "source": [
    "def compute_lda_models(corpus, dictionary, start, end):\n",
    "    perplexities = []\n",
    "    for num_topics in range(start, end + 1):\n",
    "        lda_model = LdaModel(corpus, num_topics=num_topics, id2word=dictionary, passes=15)\n",
    "        \n",
    "        # Calculate perplexity\n",
    "        perplexity = lda_model.log_perplexity(corpus)\n",
    "        perplexities.append((num_topics, perplexity))\n",
    "        \n",
    "        print(f'Number of Topics: {num_topics}, Perplexity: {perplexity}')\n",
    "    \n",
    "    return perplexities"
   ]
  },
  {
   "cell_type": "code",
   "execution_count": 43,
   "metadata": {},
   "outputs": [
    {
     "name": "stdout",
     "output_type": "stream",
     "text": [
      "Number of Topics: 3, Perplexity: -7.9717164093897805\n",
      "Number of Topics: 4, Perplexity: -7.9308493653707615\n",
      "Number of Topics: 5, Perplexity: -7.912621750129912\n",
      "Number of Topics: 6, Perplexity: -7.924463883888908\n",
      "Number of Topics: 7, Perplexity: -7.957719836918799\n",
      "Number of Topics: 8, Perplexity: -8.00120285221178\n",
      "Number of Topics: 9, Perplexity: -8.067596131447843\n",
      "Number of Topics: 10, Perplexity: -8.175935832816188\n",
      "Number of Topics: 11, Perplexity: -8.314197076944122\n",
      "Number of Topics: 12, Perplexity: -8.475734196632342\n",
      "Number of Topics: 13, Perplexity: -8.610165541402237\n",
      "Number of Topics: 14, Perplexity: -8.69867196630152\n",
      "Number of Topics: 15, Perplexity: -8.786809702825838\n",
      "Wall time: 51min 43s\n"
     ]
    }
   ],
   "source": [
    "%%time\n",
    "# Trying LDA models with different numbers of topics\n",
    "start_topic = 3\n",
    "end_topic = 15\n",
    "perplexities = compute_lda_models(corpus, dictionary, start_topic, end_topic)"
   ]
  },
  {
   "cell_type": "code",
   "execution_count": 5,
   "metadata": {},
   "outputs": [],
   "source": [
    "# Plot the perplexity values to visually inspect the best number of topics\n",
    "import matplotlib.pyplot as plt"
   ]
  },
  {
   "cell_type": "code",
   "execution_count": 45,
   "metadata": {},
   "outputs": [
    {
     "data": {
      "image/png": "[encoded data removed]",
      "text/plain": [
       "<Figure size 432x288 with 1 Axes>"
      ]
     },
     "metadata": {
      "needs_background": "light"
     },
     "output_type": "display_data"
    }
   ],
   "source": [
    "x = [x[0] for x in perplexities]\n",
    "y = [x[1] for x in perplexities]\n",
    "\n",
    "plt.plot(x, y)\n",
    "plt.xlabel('Number of Topics')\n",
    "plt.ylabel('Perplexity')\n",
    "plt.title('Perplexity vs Number of Topics')\n",
    "#plt.savefig('perplexity_vs_topics.png', format='png', dpi=300)  # You can uncomment this command if you want to save the figure\n",
    "plt.show()"
   ]
  },
  {
   "cell_type": "markdown",
   "metadata": {},
   "source": [
    "### Selecting best 'K'\n",
    "Since perplexity is a negative log likelihood, more negative values indicate worse models. Thus, the best model will have the least negative perplexity value.\n",
    "The perplexity decreases until reaching the fourth topic and starts to increase with more topics (after k=5), indicating potential overfitting with higher numbers of topics."
   ]
  },
  {
   "cell_type": "code",
   "execution_count": 46,
   "metadata": {},
   "outputs": [
    {
     "name": "stdout",
     "output_type": "stream",
     "text": [
      "(0, '0.008*\"community\" + 0.008*\"management\" + 0.007*\"social\" + 0.006*\"food\" + 0.006*\"risk\" + 0.005*\"policy\" + 0.005*\"crisis\" + 0.005*\"resilience\" + 0.004*\"development\" + 0.004*\"change\"')\n",
      "(1, '0.020*\"health\" + 0.018*\"patient\" + 0.013*\"care\" + 0.011*\"pain\" + 0.009*\"emergency\" + 0.009*\"hospital\" + 0.009*\"covid\" + 0.008*\"medical\" + 0.007*\"treatment\" + 0.006*\"pandemic\"')\n",
      "(2, '0.014*\"model\" + 0.010*\"water\" + 0.009*\"system\" + 0.007*\"risk\" + 0.006*\"area\" + 0.006*\"based\" + 0.006*\"network\" + 0.005*\"time\" + 0.005*\"flood\" + 0.005*\"emergency\"')\n",
      "(3, '0.010*\"health\" + 0.009*\"risk\" + 0.008*\"stress\" + 0.008*\"among\" + 0.008*\"factor\" + 0.007*\"mental\" + 0.007*\"child\" + 0.007*\"hurricane\" + 0.007*\"associated\" + 0.006*\"symptom\"')\n"
     ]
    }
   ],
   "source": [
    "# Keep best K for LDA model\n",
    "num_topics = 4  # Adjust based on your dataset\n",
    "lda_model = LdaModel(corpus, num_topics=num_topics, id2word=dictionary, passes=15)\n",
    "\n",
    "# Print topics\n",
    "topics = lda_model.print_topics(num_words=10) # the number of most frequent words per topic is selected per researcher choice\n",
    "for topic in topics:\n",
    "    print(topic)"
   ]
  },
  {
   "cell_type": "markdown",
   "metadata": {},
   "source": [
    "Based on the most frequent words in each topic, here are some suggested titles for each:\n",
    "\n",
    "0. **Community Resilience and Management**  \n",
    "   Keywords: community, management, social, food, risk, policy, crisis, resilience, development, change\n",
    "\n",
    "1. **Healthcare in Emergency Situations**  \n",
    "   Keywords: health, patient, care, pain, emergency, hospital, covid, medical, treatment, pandemic\n",
    "\n",
    "2. **Risk Management Systems**  \n",
    "   Keywords: model, water, system, risk, area, based, network, time, flood, emergency\n",
    "\n",
    "3. **Mental Health During Disasters**  \n",
    "   Keywords: health, risk, stress, among, factor, mental, child, hurricane, associated, symptom\n"
   ]
  },
  {
   "cell_type": "code",
   "execution_count": 47,
   "metadata": {},
   "outputs": [],
   "source": [
    "# For each document, this function will find the topic with the highest contribution\n",
    "def get_dominant_topic(lda_model, corpus):\n",
    "    dominant_topics = []\n",
    "    for doc_bow in corpus:\n",
    "        topic_probs = lda_model.get_document_topics(doc_bow)\n",
    "        dominant_topic = max(topic_probs, key=lambda x: x[1])[0]\n",
    "        dominant_topics.append(dominant_topic)\n",
    "    return dominant_topics"
   ]
  },
  {
   "cell_type": "code",
   "execution_count": 48,
   "metadata": {},
   "outputs": [],
   "source": [
    "df_wos_scopus['dominant_topic'] = get_dominant_topic(lda_model, corpus)"
   ]
  },
  {
   "cell_type": "code",
   "execution_count": 53,
   "metadata": {},
   "outputs": [],
   "source": [
    "# Define a function to map dominant_topic to dominant_topic_name\n",
    "def map_topic_name(dominant_topic):\n",
    "    if dominant_topic == 0:\n",
    "        return 'Community Resilience and Management'\n",
    "    elif dominant_topic == 1:\n",
    "        return 'Healthcare in Emergency Situations'\n",
    "    elif dominant_topic == 2:\n",
    "        return 'Risk Management Systems'\n",
    "    elif dominant_topic == 3:\n",
    "        return 'Mental Health Risks During Disasters'\n",
    "    else:\n",
    "        return None"
   ]
  },
  {
   "cell_type": "code",
   "execution_count": 54,
   "metadata": {},
   "outputs": [],
   "source": [
    "df_wos_scopus['dominant_topic_name'] = df_wos_scopus['dominant_topic'].apply(map_topic_name)"
   ]
  },
  {
   "cell_type": "code",
   "execution_count": 7,
   "metadata": {},
   "outputs": [
    {
     "data": {
      "text/html": [
       "<div>\n",
       "<style scoped>\n",
       "    .dataframe tbody tr th:only-of-type {\n",
       "        vertical-align: middle;\n",
       "    }\n",
       "\n",
       "    .dataframe tbody tr th {\n",
       "        vertical-align: top;\n",
       "    }\n",
       "\n",
       "    .dataframe thead th {\n",
       "        text-align: right;\n",
       "    }\n",
       "</style>\n",
       "<table border=\"1\" class=\"dataframe\">\n",
       "  <thead>\n",
       "    <tr style=\"text-align: right;\">\n",
       "      <th></th>\n",
       "      <th>DOI</th>\n",
       "      <th>Article_Title</th>\n",
       "      <th>Abstract</th>\n",
       "      <th>Author_Keywords</th>\n",
       "      <th>Author_Full_Names</th>\n",
       "      <th>Source_Title</th>\n",
       "      <th>Publication_Year</th>\n",
       "      <th>DB</th>\n",
       "      <th>Input</th>\n",
       "      <th>Cleaned_text</th>\n",
       "      <th>Processed_text</th>\n",
       "      <th>dominant_topic</th>\n",
       "      <th>dominant_topic_name</th>\n",
       "    </tr>\n",
       "  </thead>\n",
       "  <tbody>\n",
       "    <tr>\n",
       "      <th>0</th>\n",
       "      <td>10.1111/j.1745-493X.2012.03267.x</td>\n",
       "      <td>Humanitarian and Disaster Relief Supply Chains...</td>\n",
       "      <td>With an increasing number of disasters disrupt...</td>\n",
       "      <td>humanitarian; disaster; relief planning; respo...</td>\n",
       "      <td>Day, Jamison M.; Melnyk, Steven A.; Larson, Pa...</td>\n",
       "      <td>JOURNAL OF SUPPLY CHAIN MANAGEMENT</td>\n",
       "      <td>2012</td>\n",
       "      <td>Web of Science</td>\n",
       "      <td>Humanitarian and Disaster Relief Supply Chains...</td>\n",
       "      <td>humanitarian disaster relief supply chains mat...</td>\n",
       "      <td>['chain', 'matter', 'life', 'death', 'increasi...</td>\n",
       "      <td>0</td>\n",
       "      <td>Community Resilience and Management</td>\n",
       "    </tr>\n",
       "    <tr>\n",
       "      <th>1</th>\n",
       "      <td>10.1111/j.0000-0000.2012.01047.x</td>\n",
       "      <td>Disaster-Relief Logistics With Limited Fuel Su...</td>\n",
       "      <td>Disaster-relief logistics consists of providin...</td>\n",
       "      <td>disaster-relief logistics; vehicle routing; fu...</td>\n",
       "      <td>Suzuki, Yoshinori</td>\n",
       "      <td>JOURNAL OF BUSINESS LOGISTICS</td>\n",
       "      <td>2012</td>\n",
       "      <td>Web of Science</td>\n",
       "      <td>Disaster-Relief Logistics With Limited Fuel Su...</td>\n",
       "      <td>disaster relief logistics with limited fuel su...</td>\n",
       "      <td>['logistics', 'limited', 'fuel', 'logistics', ...</td>\n",
       "      <td>2</td>\n",
       "      <td>Risk Management Systems</td>\n",
       "    </tr>\n",
       "    <tr>\n",
       "      <th>2</th>\n",
       "      <td>10.1016/j.ijdrr.2017.10.005</td>\n",
       "      <td>Integrated blood supply chain planning for dis...</td>\n",
       "      <td>This paper proposes a multi-objective mixed in...</td>\n",
       "      <td>Blood supply chain; Disaster relief; Multi-obj...</td>\n",
       "      <td>Samani, Mohammad Reza Ghatreh; Torabi, S. Ali;...</td>\n",
       "      <td>INTERNATIONAL JOURNAL OF DISASTER RISK REDUCTION</td>\n",
       "      <td>2018</td>\n",
       "      <td>Web of Science</td>\n",
       "      <td>Integrated blood supply chain planning for dis...</td>\n",
       "      <td>integrated blood supply chain planning disaste...</td>\n",
       "      <td>['integrated', 'blood', 'planning', 'proposes'...</td>\n",
       "      <td>2</td>\n",
       "      <td>Risk Management Systems</td>\n",
       "    </tr>\n",
       "  </tbody>\n",
       "</table>\n",
       "</div>"
      ],
      "text/plain": [
       "                                DOI  \\\n",
       "0  10.1111/j.1745-493X.2012.03267.x   \n",
       "1  10.1111/j.0000-0000.2012.01047.x   \n",
       "2       10.1016/j.ijdrr.2017.10.005   \n",
       "\n",
       "                                       Article_Title  \\\n",
       "0  Humanitarian and Disaster Relief Supply Chains...   \n",
       "1  Disaster-Relief Logistics With Limited Fuel Su...   \n",
       "2  Integrated blood supply chain planning for dis...   \n",
       "\n",
       "                                            Abstract  \\\n",
       "0  With an increasing number of disasters disrupt...   \n",
       "1  Disaster-relief logistics consists of providin...   \n",
       "2  This paper proposes a multi-objective mixed in...   \n",
       "\n",
       "                                     Author_Keywords  \\\n",
       "0  humanitarian; disaster; relief planning; respo...   \n",
       "1  disaster-relief logistics; vehicle routing; fu...   \n",
       "2  Blood supply chain; Disaster relief; Multi-obj...   \n",
       "\n",
       "                                   Author_Full_Names  \\\n",
       "0  Day, Jamison M.; Melnyk, Steven A.; Larson, Pa...   \n",
       "1                                  Suzuki, Yoshinori   \n",
       "2  Samani, Mohammad Reza Ghatreh; Torabi, S. Ali;...   \n",
       "\n",
       "                                       Source_Title  Publication_Year  \\\n",
       "0                JOURNAL OF SUPPLY CHAIN MANAGEMENT              2012   \n",
       "1                     JOURNAL OF BUSINESS LOGISTICS              2012   \n",
       "2  INTERNATIONAL JOURNAL OF DISASTER RISK REDUCTION              2018   \n",
       "\n",
       "               DB                                              Input  \\\n",
       "0  Web of Science  Humanitarian and Disaster Relief Supply Chains...   \n",
       "1  Web of Science  Disaster-Relief Logistics With Limited Fuel Su...   \n",
       "2  Web of Science  Integrated blood supply chain planning for dis...   \n",
       "\n",
       "                                        Cleaned_text  \\\n",
       "0  humanitarian disaster relief supply chains mat...   \n",
       "1  disaster relief logistics with limited fuel su...   \n",
       "2  integrated blood supply chain planning disaste...   \n",
       "\n",
       "                                      Processed_text  dominant_topic  \\\n",
       "0  ['chain', 'matter', 'life', 'death', 'increasi...               0   \n",
       "1  ['logistics', 'limited', 'fuel', 'logistics', ...               2   \n",
       "2  ['integrated', 'blood', 'planning', 'proposes'...               2   \n",
       "\n",
       "                   dominant_topic_name  \n",
       "0  Community Resilience and Management  \n",
       "1              Risk Management Systems  \n",
       "2              Risk Management Systems  "
      ]
     },
     "execution_count": 7,
     "metadata": {},
     "output_type": "execute_result"
    }
   ],
   "source": [
    "df_wos_scopus.head(3)"
   ]
  },
  {
   "cell_type": "code",
   "execution_count": 56,
   "metadata": {},
   "outputs": [],
   "source": [
    "df_wos_scopus.to_csv('final_dataset.csv',index=False)"
   ]
  },
  {
   "cell_type": "markdown",
   "metadata": {},
   "source": [
    "---"
   ]
  },
  {
   "cell_type": "markdown",
   "metadata": {},
   "source": [
    "<h3>4. Visualization of the topics"
   ]
  },
  {
   "cell_type": "code",
   "execution_count": 9,
   "metadata": {},
   "outputs": [],
   "source": [
    "import pandas as pd\n",
    "import seaborn as sns\n",
    "import matplotlib.pyplot as plt"
   ]
  },
  {
   "cell_type": "code",
   "execution_count": 6,
   "metadata": {},
   "outputs": [],
   "source": [
    "# Directly read the final_dataset.csv instead of running all the previous cells\n",
    "df_wos_scopus = pd.read_csv('final_dataset.csv')"
   ]
  },
  {
   "cell_type": "markdown",
   "metadata": {},
   "source": [
    "### 4.1. Publications Per Year by Topic"
   ]
  },
  {
   "cell_type": "code",
   "execution_count": 76,
   "metadata": {},
   "outputs": [
    {
     "data": {
      "image/png": "[encoded data removed]",
      "text/plain": [
       "<Figure size 864x432 with 1 Axes>"
      ]
     },
     "metadata": {
      "needs_background": "light"
     },
     "output_type": "display_data"
    }
   ],
   "source": [
    "# Filter data until 2023 (complete year by the end of this code)\n",
    "df_filtered = df_wos_scopus[df_wos_scopus['Publication_Year'] <= 2023]\n",
    "\n",
    "# Count of publications per year and dominant topic\n",
    "publications_per_year = df_filtered.groupby(['Publication_Year', 'dominant_topic_name']).size().reset_index(name='Counts')\n",
    "\n",
    "# Graph\n",
    "plt.figure(figsize=(12, 6))\n",
    "sns.lineplot(data=publications_per_year, x='Publication_Year', y='Counts', hue='dominant_topic_name', marker='o')\n",
    "plt.title('Publications Per Year by Topic (1993 - 2023)')\n",
    "plt.xlabel('Publication Year')\n",
    "plt.ylabel('Number of Publications')\n",
    "plt.xticks(rotation=45)\n",
    "plt.legend(title='Dominant Topic')\n",
    "plt.grid()\n",
    "\n",
    "# Uncomment to save the figure\n",
    "#plt.savefig('publications_per_year_by_topic.png', format='png', dpi=300)\n",
    "plt.show()"
   ]
  },
  {
   "cell_type": "markdown",
   "metadata": {},
   "source": [
    "### 4.2. Publications by Topic Distribution"
   ]
  },
  {
   "cell_type": "code",
   "execution_count": 37,
   "metadata": {},
   "outputs": [
    {
     "data": {
      "image/png": "[encoded data removed]",
      "text/plain": [
       "<Figure size 576x576 with 1 Axes>"
      ]
     },
     "metadata": {},
     "output_type": "display_data"
    }
   ],
   "source": [
    "topic_distribution = df_wos_scopus['dominant_topic_name'].value_counts()\n",
    "plt.figure(figsize=(8, 8))\n",
    "plt.pie(topic_distribution, labels=topic_distribution.index, autopct='%1.1f%%', startangle=140)\n",
    "plt.title('Distribution of Publications by Topic')\n",
    "plt.axis('equal')  # Equal aspect ratio ensures pie is drawn as a circle.\n",
    "plt.savefig('publications_distribution_by_topic.png', format='png', dpi=300)\n",
    "plt.show()"
   ]
  },
  {
   "cell_type": "markdown",
   "metadata": {},
   "source": [
    "### 4.3. Total Publications Per Topic"
   ]
  },
  {
   "cell_type": "code",
   "execution_count": 16,
   "metadata": {},
   "outputs": [],
   "source": [
    "# Create a mapping to shorten or format the topic names for better readability\n",
    "def format_topic_name(name):\n",
    "    if name == 'Community Resilience and Management':\n",
    "        return 'Community Resilience\\nand Management'\n",
    "    elif name == 'Healthcare in Emergency Situations':\n",
    "        return 'Healthcare in\\nEmergency Situations'\n",
    "    elif name == 'Risk Management Systems':\n",
    "        return 'Risk Management\\nSystems'\n",
    "    elif name == 'Mental Health Risks During Disasters':\n",
    "        return 'Mental Health Risks\\nDuring Disasters'\n",
    "    else:\n",
    "        return name"
   ]
  },
  {
   "cell_type": "code",
   "execution_count": 18,
   "metadata": {},
   "outputs": [
    {
     "data": {
      "image/png": "[encoded data removed]",
      "text/plain": [
       "<Figure size 720x432 with 1 Axes>"
      ]
     },
     "metadata": {
      "needs_background": "light"
     },
     "output_type": "display_data"
    }
   ],
   "source": [
    "# Apply the formatting function to the topic names\n",
    "publications_per_topic['dominant_topic_name'] = publications_per_topic['dominant_topic_name'].apply(format_topic_name)\n",
    "\n",
    "# Graph\n",
    "plt.figure(figsize=(10, 6))\n",
    "ax = sns.barplot(data=publications_per_topic, x='dominant_topic_name', y='Counts', palette='viridis')\n",
    "\n",
    "# Add totals on top of each bar\n",
    "for p in ax.patches:\n",
    "    ax.annotate(f'{int(p.get_height())}', (p.get_x() + p.get_width() / 2., p.get_height()), \n",
    "                ha='center', va='bottom', fontsize=10, color='black', \n",
    "                xytext=(0, 5), textcoords='offset points')\n",
    "\n",
    "plt.title('Total Publications Per Topic (1993 - 2023)')\n",
    "plt.xlabel('Dominant Topic')\n",
    "plt.ylabel('Number of Publications')\n",
    "plt.xticks(rotation=0)  \n",
    "plt.grid(axis='y')\n",
    "\n",
    "# Uncomment to save the figure\n",
    "# plt.savefig('total_publications_per_topic.png', format='png', dpi=300)\n",
    "plt.show()"
   ]
  },
  {
   "cell_type": "markdown",
   "metadata": {},
   "source": [
    "### 4.4. Publications Per Topic by Source"
   ]
  },
  {
   "cell_type": "code",
   "execution_count": 22,
   "metadata": {},
   "outputs": [],
   "source": [
    "# Publications per source title\n",
    "publications_per_source = df_wos_scopus.groupby(['Source_Title', 'dominant_topic_name']).size().reset_index(name='Counts')\n",
    "\n",
    "# Top 10 sources by total publications\n",
    "top_sources = publications_per_source.groupby('Source_Title')['Counts'].sum().nlargest(5).index\n",
    "filtered_publications = publications_per_source[publications_per_source['Source_Title'].isin(top_sources)]"
   ]
  },
  {
   "cell_type": "code",
   "execution_count": 23,
   "metadata": {
    "collapsed": true
   },
   "outputs": [
    {
     "name": "stderr",
     "output_type": "stream",
     "text": [
      "<ipython-input-23-6eb4a571900b>:6: SettingWithCopyWarning: \n",
      "A value is trying to be set on a copy of a slice from a DataFrame.\n",
      "Try using .loc[row_indexer,col_indexer] = value instead\n",
      "\n",
      "See the caveats in the documentation: https://pandas.pydata.org/pandas-docs/stable/user_guide/indexing.html#returning-a-view-versus-a-copy\n",
      "  filtered_publications['Source_Title'] = filtered_publications['Source_Title'].apply(format_source_title)\n"
     ]
    }
   ],
   "source": [
    "# Function to format source titles for better readability\n",
    "def format_source_title(title):\n",
    "    return title.title()  # Convert to title case\n",
    "\n",
    "# Apply the formatting function to the source titles\n",
    "filtered_publications['Source_Title'] = filtered_publications['Source_Title'].apply(format_source_title)"
   ]
  },
  {
   "cell_type": "code",
   "execution_count": 33,
   "metadata": {
    "collapsed": true
   },
   "outputs": [
    {
     "name": "stderr",
     "output_type": "stream",
     "text": [
      "<ipython-input-33-b8d241afe4c3>:17: SettingWithCopyWarning: \n",
      "A value is trying to be set on a copy of a slice from a DataFrame.\n",
      "Try using .loc[row_indexer,col_indexer] = value instead\n",
      "\n",
      "See the caveats in the documentation: https://pandas.pydata.org/pandas-docs/stable/user_guide/indexing.html#returning-a-view-versus-a-copy\n",
      "  filtered_publications['Source_Title'] = filtered_publications['Source_Title'].apply(format_source_title)\n"
     ]
    }
   ],
   "source": [
    "# Create a mapping for the source titles to shorten with line breaks\n",
    "def format_source_title(title):\n",
    "    if title == 'Disaster Medicine And Public Health Preparedness':\n",
    "        return 'Disaster Medicine\\nand Public Health\\nPreparedness'\n",
    "    elif title == 'Disasters':\n",
    "        return 'Disasters'\n",
    "    elif title == 'International Journal Of Disaster Risk Reduction':\n",
    "        return 'Int. Journal of\\nDisaster Risk\\nReduction'\n",
    "    elif title == 'International Journal Of Environmental Research And Public Health':\n",
    "        return 'Int. Journal of\\nEnvironmental Research\\nand Public Health'\n",
    "    elif title == 'Sustainability':\n",
    "        return 'Sustainability'\n",
    "    else:\n",
    "        return title\n",
    "\n",
    "# Apply the formatting function to the Source_Title column\n",
    "filtered_publications['Source_Title'] = filtered_publications['Source_Title'].apply(format_source_title)"
   ]
  },
  {
   "cell_type": "code",
   "execution_count": 35,
   "metadata": {},
   "outputs": [
    {
     "data": {
      "image/png": "[encoded data removed]",
      "text/plain": [
       "<Figure size 864x576 with 1 Axes>"
      ]
     },
     "metadata": {
      "needs_background": "light"
     },
     "output_type": "display_data"
    }
   ],
   "source": [
    "# Graph\n",
    "plt.figure(figsize=(12, 8))\n",
    "ax = sns.barplot(data=filtered_publications, x='Source_Title', y='Counts', hue='dominant_topic_name', palette='viridis')\n",
    "\n",
    "# Add totals on top of each bar\n",
    "for p in ax.patches:\n",
    "    ax.annotate(f'{int(p.get_height())}', (p.get_x() + p.get_width() / 2., p.get_height()), \n",
    "                ha='center', va='bottom', fontsize=10, color='black', \n",
    "                xytext=(0, 5), textcoords='offset points')\n",
    "\n",
    "plt.title('Publications Per Topic by Source Title (Top 5 Sources)')\n",
    "plt.xlabel('Source Title')\n",
    "plt.ylabel('Number of Publications')\n",
    "plt.xticks()\n",
    "plt.legend(title='Dominant Topic')\n",
    "plt.grid(axis='y')\n",
    "\n",
    "# Save the figure if required\n",
    "# plt.savefig('publications_top5_sources.png', format='png', dpi=300)\n",
    "plt.show()"
   ]
  },
  {
   "cell_type": "markdown",
   "metadata": {},
   "source": [
    "### 4.5. Heatmap of Publications per Topic and Year"
   ]
  },
  {
   "cell_type": "code",
   "execution_count": 28,
   "metadata": {},
   "outputs": [
    {
     "data": {
      "image/png": "[encoded data removed]",
      "text/plain": [
       "<Figure size 864x432 with 2 Axes>"
      ]
     },
     "metadata": {
      "needs_background": "light"
     },
     "output_type": "display_data"
    }
   ],
   "source": [
    "# Format the dominant topic names in the publications_per_year DataFrame\n",
    "publications_per_year['dominant_topic_name'] = publications_per_year['dominant_topic_name'].apply(format_topic_name)\n",
    "\n",
    "# Pivot table for the heatmap\n",
    "heatmap_data = publications_per_year.pivot('Publication_Year', 'dominant_topic_name', 'Counts').fillna(0)\n",
    "\n",
    "# Heatmap\n",
    "plt.figure(figsize=(12, 6))\n",
    "sns.heatmap(heatmap_data, annot=True, fmt='g', cmap='Blues', linewidths=0.5)\n",
    "plt.title('Heatmap of Publications per Topic and Year (1993 - 2023)')\n",
    "plt.xlabel('Dominant Topic')\n",
    "plt.ylabel('Publication Year')\n",
    "\n",
    "# Uncomment to save the figure\n",
    "#plt.savefig('heatmap_publications_per_topic_and_year.png', format='png', dpi=300)\n",
    "plt.show()"
   ]
  },
  {
   "cell_type": "markdown",
   "metadata": {},
   "source": [
    "### 4.6. Top Sources per Topic"
   ]
  },
  {
   "cell_type": "code",
   "execution_count": 42,
   "metadata": {},
   "outputs": [
    {
     "name": "stderr",
     "output_type": "stream",
     "text": [
      "<ipython-input-42-746c84b96d04>:28: SettingWithCopyWarning: \n",
      "A value is trying to be set on a copy of a slice from a DataFrame.\n",
      "Try using .loc[row_indexer,col_indexer] = value instead\n",
      "\n",
      "See the caveats in the documentation: https://pandas.pydata.org/pandas-docs/stable/user_guide/indexing.html#returning-a-view-versus-a-copy\n",
      "  top_sources['Dominant_Topic'] = topic\n"
     ]
    },
    {
     "data": {
      "text/html": [
       "<div>\n",
       "<style scoped>\n",
       "    .dataframe tbody tr th:only-of-type {\n",
       "        vertical-align: middle;\n",
       "    }\n",
       "\n",
       "    .dataframe tbody tr th {\n",
       "        vertical-align: top;\n",
       "    }\n",
       "\n",
       "    .dataframe thead th {\n",
       "        text-align: right;\n",
       "    }\n",
       "</style>\n",
       "<table border=\"1\" class=\"dataframe\">\n",
       "  <thead>\n",
       "    <tr style=\"text-align: right;\">\n",
       "      <th></th>\n",
       "      <th>Source_Title</th>\n",
       "      <th>Counts</th>\n",
       "      <th>Dominant_Topic</th>\n",
       "    </tr>\n",
       "  </thead>\n",
       "  <tbody>\n",
       "    <tr>\n",
       "      <th>0</th>\n",
       "      <td>International Journal Of Disaster Risk Reduction</td>\n",
       "      <td>611</td>\n",
       "      <td>Community Resilience and Management</td>\n",
       "    </tr>\n",
       "    <tr>\n",
       "      <th>1</th>\n",
       "      <td>Disasters</td>\n",
       "      <td>423</td>\n",
       "      <td>Community Resilience and Management</td>\n",
       "    </tr>\n",
       "    <tr>\n",
       "      <th>2</th>\n",
       "      <td>Disaster Prevention And Management</td>\n",
       "      <td>351</td>\n",
       "      <td>Community Resilience and Management</td>\n",
       "    </tr>\n",
       "    <tr>\n",
       "      <th>3</th>\n",
       "      <td>Sustainability</td>\n",
       "      <td>348</td>\n",
       "      <td>Community Resilience and Management</td>\n",
       "    </tr>\n",
       "    <tr>\n",
       "      <th>4</th>\n",
       "      <td>Disaster Medicine And Public Health Preparedness</td>\n",
       "      <td>266</td>\n",
       "      <td>Community Resilience and Management</td>\n",
       "    </tr>\n",
       "    <tr>\n",
       "      <th>5</th>\n",
       "      <td>Disaster Medicine And Public Health Preparedness</td>\n",
       "      <td>1099</td>\n",
       "      <td>Healthcare in Emergency Situations</td>\n",
       "    </tr>\n",
       "    <tr>\n",
       "      <th>6</th>\n",
       "      <td>Journal Of Pain And Symptom Management</td>\n",
       "      <td>151</td>\n",
       "      <td>Healthcare in Emergency Situations</td>\n",
       "    </tr>\n",
       "    <tr>\n",
       "      <th>7</th>\n",
       "      <td>International Journal Of Environmental Researc...</td>\n",
       "      <td>111</td>\n",
       "      <td>Healthcare in Emergency Situations</td>\n",
       "    </tr>\n",
       "    <tr>\n",
       "      <th>8</th>\n",
       "      <td>Disaster Medicine And Public Health Preparedness</td>\n",
       "      <td>78</td>\n",
       "      <td>Healthcare in Emergency Situations</td>\n",
       "    </tr>\n",
       "    <tr>\n",
       "      <th>9</th>\n",
       "      <td>Frontiers In Public Health</td>\n",
       "      <td>70</td>\n",
       "      <td>Healthcare in Emergency Situations</td>\n",
       "    </tr>\n",
       "    <tr>\n",
       "      <th>10</th>\n",
       "      <td>Sustainability</td>\n",
       "      <td>653</td>\n",
       "      <td>Risk Management Systems</td>\n",
       "    </tr>\n",
       "    <tr>\n",
       "      <th>11</th>\n",
       "      <td>International Journal Of Disaster Risk Reduction</td>\n",
       "      <td>286</td>\n",
       "      <td>Risk Management Systems</td>\n",
       "    </tr>\n",
       "    <tr>\n",
       "      <th>12</th>\n",
       "      <td>Natural Hazards</td>\n",
       "      <td>139</td>\n",
       "      <td>Risk Management Systems</td>\n",
       "    </tr>\n",
       "    <tr>\n",
       "      <th>13</th>\n",
       "      <td>International Journal Of Environmental Researc...</td>\n",
       "      <td>137</td>\n",
       "      <td>Risk Management Systems</td>\n",
       "    </tr>\n",
       "    <tr>\n",
       "      <th>14</th>\n",
       "      <td>Risk Analysis</td>\n",
       "      <td>89</td>\n",
       "      <td>Risk Management Systems</td>\n",
       "    </tr>\n",
       "    <tr>\n",
       "      <th>15</th>\n",
       "      <td>Disaster Medicine And Public Health Preparedness</td>\n",
       "      <td>381</td>\n",
       "      <td>Mental Health Risks During Disasters</td>\n",
       "    </tr>\n",
       "    <tr>\n",
       "      <th>16</th>\n",
       "      <td>International Journal Of Environmental Researc...</td>\n",
       "      <td>234</td>\n",
       "      <td>Mental Health Risks During Disasters</td>\n",
       "    </tr>\n",
       "    <tr>\n",
       "      <th>17</th>\n",
       "      <td>International Journal Of Disaster Risk Reduction</td>\n",
       "      <td>198</td>\n",
       "      <td>Mental Health Risks During Disasters</td>\n",
       "    </tr>\n",
       "    <tr>\n",
       "      <th>18</th>\n",
       "      <td>Natural Hazards</td>\n",
       "      <td>87</td>\n",
       "      <td>Mental Health Risks During Disasters</td>\n",
       "    </tr>\n",
       "    <tr>\n",
       "      <th>19</th>\n",
       "      <td>Social Science &amp; Medicine</td>\n",
       "      <td>63</td>\n",
       "      <td>Mental Health Risks During Disasters</td>\n",
       "    </tr>\n",
       "  </tbody>\n",
       "</table>\n",
       "</div>"
      ],
      "text/plain": [
       "                                         Source_Title  Counts  \\\n",
       "0    International Journal Of Disaster Risk Reduction     611   \n",
       "1                                           Disasters     423   \n",
       "2                  Disaster Prevention And Management     351   \n",
       "3                                      Sustainability     348   \n",
       "4    Disaster Medicine And Public Health Preparedness     266   \n",
       "5    Disaster Medicine And Public Health Preparedness    1099   \n",
       "6              Journal Of Pain And Symptom Management     151   \n",
       "7   International Journal Of Environmental Researc...     111   \n",
       "8    Disaster Medicine And Public Health Preparedness      78   \n",
       "9                          Frontiers In Public Health      70   \n",
       "10                                     Sustainability     653   \n",
       "11   International Journal Of Disaster Risk Reduction     286   \n",
       "12                                    Natural Hazards     139   \n",
       "13  International Journal Of Environmental Researc...     137   \n",
       "14                                      Risk Analysis      89   \n",
       "15   Disaster Medicine And Public Health Preparedness     381   \n",
       "16  International Journal Of Environmental Researc...     234   \n",
       "17   International Journal Of Disaster Risk Reduction     198   \n",
       "18                                    Natural Hazards      87   \n",
       "19                          Social Science & Medicine      63   \n",
       "\n",
       "                          Dominant_Topic  \n",
       "0    Community Resilience and Management  \n",
       "1    Community Resilience and Management  \n",
       "2    Community Resilience and Management  \n",
       "3    Community Resilience and Management  \n",
       "4    Community Resilience and Management  \n",
       "5     Healthcare in Emergency Situations  \n",
       "6     Healthcare in Emergency Situations  \n",
       "7     Healthcare in Emergency Situations  \n",
       "8     Healthcare in Emergency Situations  \n",
       "9     Healthcare in Emergency Situations  \n",
       "10               Risk Management Systems  \n",
       "11               Risk Management Systems  \n",
       "12               Risk Management Systems  \n",
       "13               Risk Management Systems  \n",
       "14               Risk Management Systems  \n",
       "15  Mental Health Risks During Disasters  \n",
       "16  Mental Health Risks During Disasters  \n",
       "17  Mental Health Risks During Disasters  \n",
       "18  Mental Health Risks During Disasters  \n",
       "19  Mental Health Risks During Disasters  "
      ]
     },
     "execution_count": 42,
     "metadata": {},
     "output_type": "execute_result"
    }
   ],
   "source": [
    "topics = [\n",
    "    'Community Resilience and Management',\n",
    "    'Healthcare in Emergency Situations',\n",
    "    'Risk Management Systems',\n",
    "    'Mental Health Risks During Disasters'\n",
    "]\n",
    "\n",
    "# Format to title \n",
    "def format_source_title(title):\n",
    "    return title.title()\n",
    "\n",
    "top_sources_by_topic = []\n",
    "\n",
    "for topic in topics:\n",
    "    filtered_data = df_wos_scopus[df_wos_scopus['dominant_topic_name'] == topic]\n",
    "    \n",
    "    source_counts = filtered_data['Source_Title'].value_counts().reset_index()\n",
    "    source_counts.columns = ['Source_Title', 'Counts']\n",
    "    \n",
    "    source_counts['Source_Title'] = source_counts['Source_Title'].apply(format_source_title)\n",
    "    \n",
    "    # Get the top 5 sources for the topic\n",
    "    top_sources = source_counts.head(5)\n",
    "    top_sources['Dominant_Topic'] = topic\n",
    "    top_sources_by_topic.append(top_sources)\n",
    "\n",
    "# Combine results into a single DataFrame\n",
    "result_df = pd.concat(top_sources_by_topic, ignore_index=True)\n",
    "result_df"
   ]
  },
  {
   "cell_type": "code",
   "execution_count": 43,
   "metadata": {},
   "outputs": [],
   "source": [
    "result_df.to_excel('sources_per_topic.xlsx')"
   ]
  },
  {
   "cell_type": "markdown",
   "metadata": {},
   "source": [
    "### 4.7. COVID check"
   ]
  },
  {
   "cell_type": "code",
   "execution_count": 59,
   "metadata": {},
   "outputs": [
    {
     "name": "stderr",
     "output_type": "stream",
     "text": [
      "<ipython-input-59-4d7bd374f641>:8: UserWarning: This pattern has match groups. To actually get the groups, use str.extract.\n",
      "  lambda x: x.str.contains(keywords_pattern, na=False).any(), axis=1\n"
     ]
    },
    {
     "name": "stdout",
     "output_type": "stream",
     "text": [
      "Number of Papers per Year (Pandemic vs Non-Pandemic Related) with Percentage:\n",
      "is_pandemic_related  False  True  Percentage_Pandemic_Related\n",
      "Publication_Year                                             \n",
      "1993                    20     0                     0.000000\n",
      "1994                    27     0                     0.000000\n",
      "1995                    32     0                     0.000000\n",
      "1996                    42     0                     0.000000\n",
      "1997                    43     0                     0.000000\n",
      "1998                    50     0                     0.000000\n",
      "1999                    60     0                     0.000000\n",
      "2000                    76     0                     0.000000\n",
      "2001                    96     0                     0.000000\n",
      "2002                    96     0                     0.000000\n",
      "2003                   119     0                     0.000000\n",
      "2004                   117     0                     0.000000\n",
      "2005                   149     0                     0.000000\n",
      "2006                   195     0                     0.000000\n",
      "2007                   310     0                     0.000000\n",
      "2008                   374     0                     0.000000\n",
      "2009                   525     0                     0.000000\n",
      "2010                   580     0                     0.000000\n",
      "2011                   709     1                     0.140845\n",
      "2012                   796     0                     0.000000\n",
      "2013                   876     0                     0.000000\n",
      "2014                  1103     0                     0.000000\n",
      "2015                  1278     0                     0.000000\n",
      "2016                  1436     0                     0.000000\n",
      "2017                  1674     1                     0.059701\n",
      "2018                  1984     0                     0.000000\n",
      "2019                  2322     0                     0.000000\n",
      "2020                  2703   355                    11.608895\n",
      "2021                  2870   766                    21.067107\n",
      "2022                  2688   974                    26.597488\n",
      "2023                  2286   736                    24.354732\n"
     ]
    },
    {
     "data": {
      "image/png": "[encoded data removed]",
      "text/plain": [
       "<Figure size 720x432 with 1 Axes>"
      ]
     },
     "metadata": {
      "needs_background": "light"
     },
     "output_type": "display_data"
    }
   ],
   "source": [
    "df_wos_scopus['Publication_Year'] = pd.to_numeric(df_wos_scopus['Publication_Year'], errors='coerce')\n",
    "\n",
    "# Define the keywords for identifying pandemic-related publications\n",
    "keywords_pattern = r'(?i)\\b(pandemi\\*|covid|coronavirus|sars-cov-2|sarscov2)\\b'\n",
    "\n",
    "# Check for pandemic-related keywords in the specified columns\n",
    "df_wos_scopus['is_pandemic_related'] = df_wos_scopus[['Article_Title', 'Abstract', 'Author_Keywords']].apply(\n",
    "    lambda x: x.str.contains(keywords_pattern, na=False).any(), axis=1\n",
    ")\n",
    "\n",
    "# Filter publications until 2023\n",
    "df_filtered = df_wos_scopus[df_wos_scopus['Publication_Year'] <= 2023]\n",
    "\n",
    "# Group by year and pandemic status\n",
    "year_counts = df_filtered.groupby(['Publication_Year', 'is_pandemic_related']).size().unstack(fill_value=0)\n",
    "\n",
    "# Calculate percentage of pandemic-related publications\n",
    "year_counts['Percentage_Pandemic_Related'] = (year_counts[True] / year_counts.sum(axis=1)) * 100\n",
    "\n",
    "print(\"Number of Papers per Year (Pandemic vs Non-Pandemic Related) with Percentage:\")\n",
    "print(year_counts)\n",
    "\n",
    "# Plotting\n",
    "plt.figure(figsize=(10, 6))\n",
    "\n",
    "# Create a stacked bar plot\n",
    "year_counts.plot(kind='bar', stacked=True, color=['gray', 'blue'], ax=plt.gca())\n",
    "\n",
    "plt.xlabel('Publication Year')\n",
    "plt.ylabel('Number of Papers')\n",
    "plt.title('Number of Papers per Year (Pandemic vs Non-Pandemic Related)')\n",
    "plt.legend(['Non-Pandemic Related', 'Pandemic Related'])\n",
    "plt.xticks(rotation=90)  # Rotate x-axis labels if needed\n",
    "plt.grid(axis='y')\n",
    "\n",
    "# Save the figure if required\n",
    "plt.savefig('pandemic_vs_non_pandemic.png', format='png', dpi=300)\n",
    "\n",
    "plt.show()"
   ]
  }
 ],
 "metadata": {
  "kernelspec": {
   "display_name": "Python 3",
   "language": "python",
   "name": "python3"
  },
  "language_info": {
   "codemirror_mode": {
    "name": "ipython",
    "version": 3
   },
   "file_extension": ".py",
   "mimetype": "text/x-python",
   "name": "python",
   "nbconvert_exporter": "python",
   "pygments_lexer": "ipython3",
   "version": "3.8.5"
  }
 },
 "nbformat": 4,
 "nbformat_minor": 4
}
